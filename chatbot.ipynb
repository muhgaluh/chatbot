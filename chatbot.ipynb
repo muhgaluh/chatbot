{
  "cells": [
    {
      "cell_type": "code",
      "execution_count": 1,
      "metadata": {
        "id": "_YKsszaLcRXL",
        "colab": {
          "base_uri": "https://localhost:8080/"
        },
        "outputId": "d35827e0-540c-42c4-c6f7-09e2f2ddcd2d"
      },
      "outputs": [
        {
          "output_type": "stream",
          "name": "stderr",
          "text": [
            "[nltk_data] Downloading package punkt to /root/nltk_data...\n",
            "[nltk_data]   Unzipping tokenizers/punkt.zip.\n",
            "[nltk_data] Downloading package wordnet to /root/nltk_data...\n"
          ]
        }
      ],
      "source": [
        "import pandas as pd\n",
        "import random\n",
        "import string\n",
        "from sklearn.feature_extraction.text import TfidfVectorizer\n",
        "from sklearn.metrics.pairwise import cosine_similarity\n",
        "import nltk\n",
        "from nltk.stem import WordNetLemmatizer\n",
        "\n",
        "# Unduh data NLTK\n",
        "nltk.download('punkt', force=True)\n",
        "nltk.download('wordnet', force=True)\n",
        "\n",
        "# Membaca file CSV\n",
        "data = pd.read_csv('tempat_makan.csv', delimiter=';', encoding='latin1')\n",
        "\n",
        "# Preprocessing\n",
        "lemmer = WordNetLemmatizer()\n",
        "def LemTokens(tokens):\n",
        "    return [lemmer.lemmatize(token) for token in tokens]\n",
        "\n",
        "remove_punct_dict = dict((ord(punct), None) for punct in string.punctuation)\n",
        "def LemNormalize(text):\n",
        "    return LemTokens(nltk.word_tokenize(text.lower().translate(remove_punct_dict)))\n",
        "\n",
        "# Membuat deskripsi tempat makan dalam bentuk list\n",
        "tempat_makan_deskripsi = data['desk'].tolist()\n",
        "\n",
        "# Keyword\n",
        "GREETING_INPUTS = (\"halo\", \"hi\", \"hai\")\n",
        "GREETING_RESPONSES = [\"Halo! Ada yang bisa saya bantu?\", \"Hi! Butuh rekomendasi tempat makan?\", \"Halo, selamat datang!\"]\n",
        "\n",
        "def greeting(sentence):\n",
        "    for word in sentence.split():\n",
        "        if word.lower() in GREETING_INPUTS:\n",
        "            return random.choice(GREETING_RESPONSES)\n",
        "\n",
        "def build_vsm_responses(user_response):\n",
        "    # Inisialisasi respon chatbot\n",
        "    robo_response = ''\n",
        "\n",
        "    # Menambahkan input pengguna ke deskripsi tempat makan untuk diproses\n",
        "    tempat_makan_deskripsi.append(user_response)\n",
        "\n",
        "    # Membuat representasi vektor TF-IDF\n",
        "    TfidfVec = TfidfVectorizer(stop_words='english')  # Menggunakan tokenizer default\n",
        "    tfidf_matrix = TfidfVec.fit_transform(tempat_makan_deskripsi)\n",
        "\n",
        "    # Menghitung kesamaan kosinus\n",
        "    cosine_similarities = cosine_similarity(tfidf_matrix[-1], tfidf_matrix)\n",
        "    similarity_scores = cosine_similarities.flatten()\n",
        "    sorted_indices = similarity_scores.argsort()[::-1][1:]\n",
        "\n",
        "    # Mendapatkan hasil terbaik\n",
        "    if similarity_scores[sorted_indices[0]] == 0:\n",
        "        robo_response = \"Maaf, saya tidak menemukan tempat makan yang cocok.\"\n",
        "    else:\n",
        "        best_match_index = sorted_indices[0]\n",
        "        matched_place = data.iloc[best_match_index]\n",
        "        robo_response = (\n",
        "            f\"Rekomendasi: {matched_place['tempat']}\\n\"\n",
        "            f\"Alamat: {matched_place['alamat']}\\n\"\n",
        "            f\"Kategori: {matched_place['kategori']}\\n\"\n",
        "            f\"Rating: {matched_place['rating']}\\n\"\n",
        "            f\"Deskripsi: {matched_place['desk']}\"\n",
        "        )\n",
        "\n",
        "    # Menghapus input pengguna dari list deskripsi untuk menjaga konsistensi data\n",
        "    tempat_makan_deskripsi.remove(user_response)\n",
        "    return robo_response\n",
        "\n"
      ]
    },
    {
      "cell_type": "markdown",
      "source": [
        "Testing Chat"
      ],
      "metadata": {
        "id": "_egYxhAOY_k1"
      }
    },
    {
      "cell_type": "code",
      "source": [
        "# Main Chat Loop\n",
        "print(\"MakanBuddy: Hi Saya MakanBuddy. asisten Anda dalam mencari lokasi tempat makanan. Ketik 'selesai' untuk keluar.\")\n",
        "while True:\n",
        "    user_input = input(\"Anda: \").lower()\n",
        "    if user_input == 'selesai':\n",
        "        print(\"MakanBuddy: Terima kasih! Selamat makan!\")\n",
        "        break\n",
        "    elif greeting(user_input):\n",
        "        print(f\"MakanBuddy: {greeting(user_input)}\")\n",
        "    else:\n",
        "        print(f\"MakanBuddy: {build_vsm_responses(user_input)}\")"
      ],
      "metadata": {
        "colab": {
          "base_uri": "https://localhost:8080/"
        },
        "id": "558ur4vcZCbl",
        "outputId": "a0bc0077-96c8-4249-e794-a650cecc383f"
      },
      "execution_count": 5,
      "outputs": [
        {
          "output_type": "stream",
          "name": "stdout",
          "text": [
            "MakanBuddy: Hi Saya MakanBuddy. asisten Anda dalam mencari lokasi tempat makanan. Ketik 'selesai' untuk keluar.\n",
            "Anda: carikan tempat makan terenak di kota semarang\n",
            "MakanBuddy: Rekomendasi: Iga Bajog\n",
            "Alamat: Jalan Panjaitan 84, Semarang Tengah, Semarang\n",
            "Kategori: BBQ\n",
            "Rating: 4.5\n",
            "Deskripsi: Tempat makan iga yang terkenal di Semarang.\n",
            "Anda: dimana gudeg legendaris di Yogyakarta\n",
            "MakanBuddy: Rekomendasi: Gudeg Yu Djum\n",
            "Alamat: Jl. Wijilan No. 167, Yogyakarta\n",
            "Kategori: Gudeg\n",
            "Rating: 4.7\n",
            "Deskripsi: Tempat legendaris untuk menikmati gudeg khas Yogyakarta\n",
            "Anda: lokasi sate legendaris khas bandung\n",
            "MakanBuddy: Rekomendasi: Sate Maulana Yusuf\n",
            "Alamat: Jl. Maulana Yusuf No. 21, Bandung\n",
            "Kategori: Sate\n",
            "Rating: 4.6\n",
            "Deskripsi: Sate legendaris bandung dengan daging empuk dan bumbu kacang lezat.\n",
            "Anda: temukan restoran yang menyediakan steak di surabaya\n",
            "MakanBuddy: Rekomendasi: Boncafé\n",
            "Alamat: Jl. Manyar Kertoarjo No. 41, Surabaya\n",
            "Kategori: Steak\n",
            "Rating: 4.6\n",
            "Deskripsi: Restoran steak di surabaya dengan suasana modern dan rasa yang lezat.\n",
            "Anda: selesai\n",
            "MakanBuddy: Terima kasih! Selamat makan!\n"
          ]
        }
      ]
    }
  ],
  "metadata": {
    "colab": {
      "provenance": []
    },
    "kernelspec": {
      "display_name": "Python 3",
      "name": "python3"
    },
    "language_info": {
      "name": "python"
    }
  },
  "nbformat": 4,
  "nbformat_minor": 0
}